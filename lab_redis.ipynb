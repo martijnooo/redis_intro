{
 "cells": [
  {
   "cell_type": "markdown",
   "id": "c3b12388",
   "metadata": {},
   "source": [
    "# **Redis Lab: Querying the Movies Dataset**\n",
    "\n",
    "## **Objective**\n",
    "This lab will help you practice querying data in Redis using the dataset provided [here](https://redis.io/learn/howtos/moviesdatabase/import#importing-the-movies-theaters-and-users). You will execute a series of progressively challenging queries to retrieve, filter, and manipulate movie-related data.\n",
    "\n",
    "## **Dataset Overview**\n",
    "The dataset consists of the following key types:\n",
    "- **Movies**: Stored as hashes with keys like `movie:<id>`\n",
    "- **Theaters**: Stored as hashes with keys like `theater:<id>`\n",
    "- **Users**: Stored as hashes with keys like `user:<id>`\n",
    "- **Ratings**: Stored as sorted sets to track movie ratings\n",
    "- **Indexes**: Secondary indexes to facilitate searching\n",
    "\n",
    "---\n",
    "\n",
    "## **Lab Instructions**\n",
    "**Perform the following queries in Redis CLI.**"
   ]
  },
  {
   "cell_type": "code",
   "execution_count": 21,
   "id": "eebce790",
   "metadata": {},
   "outputs": [],
   "source": [
    "import redis\n",
    "\n",
    "r = redis.Redis(decode_responses=True)"
   ]
  },
  {
   "cell_type": "markdown",
   "id": "545b234d",
   "metadata": {},
   "source": [
    "### **1. Retrieve a Movie by ID**\n",
    "Fetch details of the movie with ID `1`."
   ]
  },
  {
   "cell_type": "code",
   "execution_count": null,
   "id": "6fc41fd9",
   "metadata": {},
   "outputs": [
    {
     "name": "stdout",
     "output_type": "stream",
     "text": [
      "Guardians of the Galaxy\n"
     ]
    }
   ],
   "source": [
    "movie = r.hget(name='movie:1', key='title')\n",
    "print(movie)"
   ]
  },
  {
   "cell_type": "markdown",
   "id": "b4caa0c2",
   "metadata": {},
   "source": [
    "### **2. List All Movies**\n",
    "Retrieve all movie IDs stored in Redis."
   ]
  },
  {
   "cell_type": "code",
   "execution_count": null,
   "id": "cf1cbc0b",
   "metadata": {},
   "outputs": [
    {
     "data": {
      "text/plain": [
       "922"
      ]
     },
     "execution_count": 31,
     "metadata": {},
     "output_type": "execute_result"
    }
   ],
   "source": [
    "ids = r.keys(\"movie:*\")\n"
   ]
  },
  {
   "cell_type": "code",
   "execution_count": 118,
   "id": "8024af5b",
   "metadata": {},
   "outputs": [],
   "source": [
    "# scan iter for more optimal approach\n",
    "ids2 = list(r.scan_iter(match=\"movie:*\"))\n",
    "    "
   ]
  },
  {
   "cell_type": "markdown",
   "id": "010f3b1d",
   "metadata": {},
   "source": [
    "### **3. Find Movies by Title Prefix**\n",
    "Find all movies that start with \"The Lord of the Rings\"."
   ]
  },
  {
   "cell_type": "code",
   "execution_count": null,
   "id": "82b60aa5",
   "metadata": {},
   "outputs": [],
   "source": [
    "results = []\n",
    "\n",
    "for key in r.scan_iter(match=\"movie:*\"):\n",
    "    title = r.hget(key, \"title\")\n",
    "    if \"The Lord of the Rings\" in title:\n",
    "        results.append(title)"
   ]
  },
  {
   "cell_type": "markdown",
   "id": "af9cbccf",
   "metadata": {},
   "source": [
    "### **4. Retrieve Theaters in a Specific City**\n",
    "Find all theaters located in \"New York\"."
   ]
  },
  {
   "cell_type": "code",
   "execution_count": 47,
   "id": "67057f1e",
   "metadata": {},
   "outputs": [
    {
     "name": "stdout",
     "output_type": "stream",
     "text": [
      "['The Walter Reade Theater at Lincoln Center', 'P.S.122 Performance Space', \"Lamb's Theatre\", 'Rattlestick Theater', 'Minskoff Theatre', 'Booth Theatre', 'The Little Shubert theatre', 'Vineyard Theatre', 'Al Hirschfeld Theater', 'Manhattan Theatre Source', 'Theatre 80 St Marks', 'SoHo Playhouse', 'Palace Theatre', 'New Victory Theatre', 'Belasco Theatre', 'Marquis Theatre', 'The Cherry Pit', 'St. James Theatre', 'Union Square Theater', 'Majestic Theatre', 'Acorn Theater', 'August Wilson Theatre', 'Henry Miller Theatre', 'Arclight Theatre', 'New World Stages', '45th Street Theater', 'Mazer Theatre', 'Lucille Lortel Theatre', \"Eugene O'Neill Theater\", 'Neil Simon Theatre', '59E59', 'Theatre Row', 'Ontological Hysteric Theater', 'Barrow Street Theatre', 'Kraine Theater', 'Snapple Theater Center', 'Pearl Theatre', 'Studio 54 Theatre', 'Shubert Theatre', 'Next Stage Theater', 'Laura Pels Theater', 'Orpheum Theater', 'Village Theater', 'Harold Clurman Theater', 'Nokia Theatre Times Square', 'John Golden Theatre', 'Walkerspace Theater', 'Metropolitan Playhouse', 'Music Box Theatre', 'Lunt-Fontanne Theatre', 'La Mama Experimental Theatre', 'Lion Theatre', 'Gerald Schoenfeld Theatre', 'Bleecker Street Theater', 'Swedish Cottage Marionette Theater', 'Cherry Lane Theatre', 'Manhattan Ensemble Theatre', 'American Airlines Theatre', 'Winter Garden Theatre', 'Jane Street Theatre', 'The Upright Citizens Brigade Theatre', \"Theatre @ St. Clement's\", 'Ohio Theatre', 'Cort Theatre', 'Castillo Theater', 'Westside Theater', 'New Amsterdam Theater', 'Atlantic Theatre', 'Broadhurst Theatre', 'Gershwin Theatre', 'The Zipper Theater', 'Michael Schimmel Center for the Arts at Pace University', \"People's Improv Theater\", 'Hilton Theatre', 'Beacon Theatre', 'Theater For The New City', 'Nederlander Theater', 'Greenwich Street Theater', 'Richard Rodgers Theatre', 'Century Center For the Performing Arts', 'Imperial Theatre', 'SoHo Repertory Theatre', 'The Beckett Theatre', 'Lyceum Theatre', 'Wamu Theater formerly Theater At Madison Square Garden', 'York Theatre', 'Miller Theatre at Columbia University', 'Second Stage Theater', 'Broadway Theatre', 'Bernard B. Jacobs Theatre', 'Duke Theatre', 'Wings Theatre', 'Ambassador Theatre', 'Playwrights Horizons Theater School', 'Circle In the Square Theatre', 'The Public Theater', 'Astor Place Theatre', 'Brooks Atkinson Theatre', 'Delacorte Theater', 'Gramercy Arts Theatre', 'Julia Miles Theater', 'Ethel Barrymore Theatre', 'McGinn Cazale Theater', 'Longacre Theatre', 'Gene Frankel Theatre Workshop', 'Connelly Theater', 'Ed Sullivan Theater', 'Apollo Theater', 'Under St. Marks', '47th Street Theater', 'Here Theater', 'Daryl Roth Theatre', 'Tenement Theatre', 'Samuel J. Friedman Theatre formerly the Biltmore', 'Helen Hayes Theater']\n"
     ]
    }
   ],
   "source": [
    "nyc_theaters = []\n",
    "\n",
    "for key in r.scan_iter(match=\"theater:*\"):\n",
    "    if r.hget(name=key, key=\"city\") == \"New York\":\n",
    "        nyc_theaters.append(r.hget(name=key, key=\"name\"))\n",
    "print(nyc_theaters)"
   ]
  },
  {
   "cell_type": "markdown",
   "id": "7a5284cc",
   "metadata": {},
   "source": [
    "### **5. Get Top-Rated Movies**\n",
    "Retrieve the top 5 movies based on rating."
   ]
  },
  {
   "cell_type": "code",
   "execution_count": 92,
   "id": "b5448904",
   "metadata": {},
   "outputs": [
    {
     "name": "stdout",
     "output_type": "stream",
     "text": [
      "[['movie:787', 'Vegas (doc)'], ['movie:521', 'Boy 9'], ['movie:314', 'The Shawshank Redemption'], ['movie:723', 'Ween Live in Chicago'], ['movie:1025', 'Over Canada: An Aerial Adventure']]\n",
      "[9.4, 9.4, 9.3, 9.2, 9.1]\n"
     ]
    }
   ],
   "source": [
    "movies = [None] * 5\n",
    "ratings = [0] * 5\n",
    "\n",
    "for key in r.scan_iter(match=\"movie:*\"):\n",
    "    rating = float(r.hget(name=key, key=\"rating\"))\n",
    "    if rating > min(ratings):\n",
    "        # drop the last movie and rating in the list\n",
    "        movies[4] = [key, r.hget(name=key, key=\"title\")]\n",
    "        ratings[4] = rating\n",
    "        # sort based on new ones\n",
    "        sorted_pairs = sorted(zip(ratings, movies), reverse=True)\n",
    "        ratings, movies = zip(*sorted_pairs)\n",
    "        ratings, movies = list(ratings), list(movies)\n",
    "\n",
    "print(movies)\n",
    "print(ratings)\n"
   ]
  },
  {
   "cell_type": "markdown",
   "id": "f6af8f13",
   "metadata": {},
   "source": [
    "### **6. Find Movies Released After 2010**\n",
    "Retrieve movies where the release year is greater than 2010."
   ]
  },
  {
   "cell_type": "code",
   "execution_count": 100,
   "id": "8b1b79a8",
   "metadata": {},
   "outputs": [
    {
     "name": "stdout",
     "output_type": "stream",
     "text": [
      "['The Boat', 'Iron Man 3', 'Star Wars: Episode IX - The Rise of Skywalker', 'Teenage Mutant Ninja Turtles: Out of the Shadows', 'Captain Fantastic', 'Non-Stop', 'The Best of Me', 'Midnight,Texas', \"The Village: Achiara's Secret\", 'Teenage Mutant Ninja Turtles', 'Occupy Los Angeles', 'Mascots', 'Barcelona: A Love Untold', 'Sully', 'En man som heter Ove', 'Gone Girl', 'Snowden', 'Chicago Fire', 'Miami Monkey', 'Spider-Man: Far from Home', 'Southpaw', 'Monster High: Boo York,Boo York', 'The Neon Demon', 'Undercover Boss Canada', 'Hunt for the Wilderpeople', 'Kingsman: The Secret Service', 'Deidra & Laney Rob a Train', 'The Village 1', 'The Man Who Knew Infinity', 'What We Do in the Shadows', 'Furious Seven', 'Boy 7', \"Miss Peregrine's Home for Peculiar Children\", 'San Andreas', 'Captain America: The Winter Soldier', 'The Amazing Spider-Man 2', 'Bleed for This', 'Ghostbusters', '7 Days to Vegas', 'The Nice Guys', 'Ouija: Origin of Evil', 'California (2018)', 'Transcendence', 'Anthropoid', 'The Siege of Jadotville', 'American Honey', 'The Interview', 'Alice Through the Looking Glass', 'In the Heart of the Sea', 'Boy 8', 'Whiplash', 'Deliver Us from Evil', 'American Sniper', 'Flipping Vegas', 'Greenwich Village: Music That Defined a Generation', 'Ex Machina', 'The Good Dinosaur', 'The Infiltrator', 'The Boy', 'In a Valley of Violence', 'Deadpool', 'Boy 4', 'Belok Kanan Barcelona', 'Gods of Egypt', 'Bad Moms', 'The Other Woman', 'Love & Hip Hop: Miami', 'Texas Car Wars', 'Point Break', 'Blood Father', 'R&B Divas: Los Angeles', 'Barcelona Summer Night', 'The Babadook', 'Barcelona Christmas Night', 'Now More Than Ever: The History of Chicago', 'NXT TakeOver: Chicago II', 'Boo! A Madea Halloween', 'The VVitch: A New-England Folktale', 'Annabelle', 'The Drudgery Train', 'Jurassic World', 'Bone Tomahawk', 'Inside Out', 'Fury', 'The Conjuring 2', 'Family Feud Canada', 'Nightcrawler', 'Mr. Right', 'Paper Boat', 'Sicario', 'Exodus: Gods and Kings', 'Eliza Graves', 'The Unspoken', 'Krampus', 'Maleficent', 'X-Men: Apocalypse', 'The Drop', 'From Vegas to Macau III', 'The Purge: Election Year', \"I'm Not Ashamed\", 'Max Steel', 'Unbroken', 'Desierto', 'I Frankenstein', 'Suicide Squad', 'Rihanna: California King Bed', 'Texas (2018)', 'Sausage Party', 'Smurfs: The Lost Village', 'Skating to New York', 'It Follows', 'The Lost Village', 'The Jungle Book', 'Edge of Tomorrow', 'Creep', 'Dawn of the Planet of the Apes', 'Love Rosie', 'Trolls', 'Welcome to New York', 'Star Trek Beyond', 'Victor Frankenstein', 'LA to Vegas', 'Colonia', 'The Boat ()', 'The Cardboard Village', 'Batman v Superman: Dawn of Justice', 'The Finest Hours', 'Dracula Untold', 'Stagecoach: The Texas Jack Story', 'Straight Outta Compton', 'Big Hero 6', 'Hacksaw Ridge', 'A Christmas Village', 'Burnt', 'Independence Day: Resurgence', 'The Only Living Boy in New York', 'Brooklyn', 'The Theory of Everything', 'Relatos salvajes', 'Trainwreck', 'A Million Ways to Die in the West', 'Los Angeles Overnight', 'Colin Quinn: The New York Story', 'The Invitation', 'King Cobra', 'Jupiter Ascending', 'Lights Out', 'Texas Rising', 'Vacation', 'Arrival', 'Ah-ga-ssi', 'Neighbors', 'California High', 'Clown', 'Deepwater Horizon', '13 Hours', 'Creed', 'The Visit', 'The Danish Girl', 'Macbeth', 'How to Train Your Dragon: The Hidden World', 'Canada: The Story of Us', 'Imperium', 'Flip or Flop Vegas', 'Louis Theroux: Miami Megajail', 'Spotlight', 'Ant-Man', 'Avengers: Age of Ultron', 'Vampire Academy', 'The Bachelorette Canada', 'Into the Forest', 'Green Room', 'Pitch Perfect 2', '1917', 'Jason Bourne', 'Need for Speed', 'The Ridiculous 6', 'John Wick', 'Mike and Dave Need Wedding Dates', 'Inferno', 'Ted 2', 'Shivaay', 'Terminator Genisys', 'Steve Jobs', 'The Martian', 'The Big Short', 'The Gambler', 'The Salvation', 'Everest', '22 Jump Street', 'The Lobster', 'Zootopia', 'Hardcore Henry', 'Un homme pressé', 'The Loft', 'The BFG', 'Same Boat', 'The Longest Ride', 'Tomorrowland', 'Predestination', 'Page One: Inside the New York Times', 'Seattle', 'Birdman or (The Unexpected Virtue of Ignorance)', 'The Final Girls', 'Texas (2013)', 'Warcraft', 'Ice Age: Collision Course', 'Chappie', 'The Equalizer', 'Concussion', 'Youth', 'X+Y', 'Last Man Standing', 'Free State of Jones', 'Bridge of Spies', 'Inherent Vice', 'Destruction Los Angeles', 'Nine Lives', 'Transformers: Age of Extinction', 'Chicago P.D.', 'Joy', 'Fathers & Daughters', 'Equals', 'The Secret Life of Pets', \"Old Jack's Boat\", 'Doctor Strange', 'Jack Ryan: Shadow Recruit', 'Divergent', 'ReMastered: The Miami Showband Massacre', 'I Origins', 'The Hobbit: The Battle of the Five Armies', 'Spider-Man: Homecoming', 'The Book of Life', \"Bridget Jones's Baby\", 'Cinderella', 'The Gift', 'The Edge of Seventeen', 'Barcelona (2014)', '3 Days to Kill', 'Jack Reacher: Never Go Back', 'Legends of Tomorrow', 'A Bigger Splash', 'Finding Dory', 'Busanhaeng', 'Spider-Man: Into the Spider-Verse', 'Scouts Guide to the Zombie Apocalypse', 'Hercules', 'X-Men: Days of Future Past', 'Nocturnal Animals', 'Hell or High Water', 'Married to Medicine: Los Angeles', 'The Purge: Anarchy', 'Matchday: Inside FC Barcelona', 'The Hunger Games: Mockingjay - Part 2', 'The DUFF', 'Star Wars: Episode VII - The Force Awakens', 'Dance Moms: Miami', 'The Girl on the Train', 'Hardcore Pawn: Chicago', 'Design Canada', 'The Intern', 'Mission: Impossible - Rogue Nation', 'Focus', 'Sex Tape', 'Now You See Me 2', 'Los Angeles Film Noir', 'Crimson Peak', 'The Whole Truth', 'The Grand Budapest Hotel', 'Maze Runner: The Scorch Trials', 'The Imitation Game', \"Adolf Hitler's Last Appeal to Reason\", 'The Judge', 'Swiss Army Man', 'A Reason to Live', 'Man Down', \"Billy Lynn's Long Halftime Walk\", 'Moonlight', 'Guardians of the Galaxy Vol. 2', 'Boy (9)', 'The Magnificent Seven', 'Battle Los Angeles', 'Man', 'The Dressmaker', 'Magic Mike XXL', 'Seattle Road', 'As Above So Below', 'Masterminds', 'By the Sea', 'Split', 'That Awkward Moment', 'Minions', 'Before We Go', 'The Expendables 3', 'Honeytrap', 'In the Same Boat', 'The Lego Movie', 'The Village 2', 'Neruda', 'Shin Gojira', 'Boy 5', 'If I Stay', 'Big Eyes', 'Black Mass', 'Eye in the Sky', 'Rise of a Texas Bluesman: Stevie Ray Vaughan 1954-1983', 'My Internship in Canada', 'Boyhood', 'Cybernatural (aka Unfriended)', 'Chicago Med', 'Ich seh ich seh', 'Lucifer', 'Hotel Transylvania 2', 'The Voices', 'Grimsby', 'The Fault in Our Stars', 'Dream Boat', 'A Rainy Day in New York', \"Don't Breathe\", 'Welcome to New York -', 'MasterChef Canada', 'Room', 'Noah', 'Left Behind', 'Barcelona,Neutral City', 'Keeping Up with the Joneses', 'Last Vegas', 'Hotel California (2013)', 'Vegas (doc)', 'The Last Witch Hunter', 'Goosebumps', 'Sin City: A Dame to Kill For', 'Insurgent', 'The Age of Adaline', 'California Solo', 'Me Before You', 'Boy 9', 'Storks', 'Knock Knock', 'Wipeout Canada', 'Seattle Superstorm', 'Annie', 'Chicago Justice', 'Nerve', 'Pan', 'Interstellar', 'The Legend of Tarzan', 'Battle for the Lost Planet (Galaxy)', 'Vegas 2012', '10 Cloverfield Lane', 'The Shallows', 'Captain America: Civil War', 'Spy', 'Knight of Cups', 'The Revenant', 'Un village presque parfait', 'Blended', 'Fantastic Four', 'Muhammad: The Messenger of God', 'The Maze Runner', 'The Hunger Games: Mockingjay - Part 1', 'Testament of Youth', \"Daddy's Home\", 'Guardians of the Galaxy', 'Mad Max: Fury Road', \"ZZ Top: That Little Ol' Band from Texas\", 'Carol', 'Mechanic: Resurrection', 'Demolition', 'The Guest', 'Miami (2017)', 'La La Land', 'Spectre', 'The Giver', 'Star Wars: Episode VIII - The Last Jedi', 'Tusk', 'Seventh Son', 'Fifty Shades of Grey', 'The Hateful Eight', 'The Taking', 'American Pastoral', 'Horrible Bosses 2', 'The Accountant', '300: Rise of an Empire', 'Central Intelligence', 'Boy 6']\n"
     ]
    }
   ],
   "source": [
    "movies_after_2010 = []\n",
    "\n",
    "for key in r.scan_iter(match=\"movie:*\"):\n",
    "    name = r.hget(name=key, key=\"title\")\n",
    "    year = int(r.hget(name=key, key=\"release_year\"))\n",
    "    if year > 2010:\n",
    "        movies_after_2010.append(name)\n",
    "print(movies_after_2010)"
   ]
  },
  {
   "cell_type": "markdown",
   "id": "338424ea",
   "metadata": {},
   "source": [
    "\n",
    "### **7. Get Movies by Genre**\n",
    "Find all movies labeled as \"Action\"."
   ]
  },
  {
   "cell_type": "code",
   "execution_count": 106,
   "id": "0f924ad0",
   "metadata": {},
   "outputs": [
    {
     "name": "stdout",
     "output_type": "stream",
     "text": [
      "['Iron Man 3', 'Star Wars: Episode IX - The Rise of Skywalker', 'Teenage Mutant Ninja Turtles: Out of the Shadows', 'Non-Stop', 'The Running Man', 'Teenage Mutant Ninja Turtles', 'Texas Rangers', 'Chicago Fire', 'Spider-Man: Far from Home', 'Battle in Seattle', 'The Last of the Mohicans', 'Kingsman: The Secret Service', 'Furious Seven', 'San Andreas', 'Rome: The Other Side of Violence', 'Captain America: The Winter Soldier', 'The Amazing Spider-Man 2', 'Ghostbusters', 'The Nice Guys', 'Harley Davidson and the Marlboro Man', 'The Siege of Jadotville', 'Star Wars: Episode I - The Phantom Menace', 'In the Heart of the Sea', 'Money Train', 'American Sniper', 'The Fifth Element', 'Deadpool', 'Gods of Egypt', 'California Cowboys', 'Point Break', 'A Bullet for Pretty Boy', 'Blood Father', 'Aftershock: Earthquake in New York', 'NXT TakeOver: Chicago II', 'Spider-Man 2', 'Chicago Overcoat', 'Jurassic World', 'Fury', 'Walker,Texas Ranger', 'Star Wars: Episode IV - A New Hope', 'Mr. Right', 'Sicario', 'Exodus: Gods and Kings', 'Maleficent', 'X-Men: Apocalypse', 'Miami Cops', 'The Purge: Election Year', 'Max Steel', 'I Frankenstein', 'Suicide Squad', 'Texas (2018)', 'Fire on East Train 34', 'Village on Fire', 'Edge of Tomorrow', 'Dawn of the Planet of the Apes', 'Hollow Man', 'Star Trek Beyond', 'Miami Medical', 'Spider-Man 3', 'Batman v Superman: Dawn of Justice', 'The Finest Hours', 'Dracula Untold', 'Train', 'The Great Texas Dynamite Chase', 'Independence Day: Resurgence', 'Private Security Officer: Los Angeles', 'Crocodile Dundee in Los Angeles', 'Top Gun', 'The Last Boy Scout', 'Miami Beach Cops', 'Jupiter Ascending', 'The Rock', 'The Train', 'Deepwater Horizon', '13 Hours', 'Indiana Jones and the Last Crusade', 'The Pope of Greenwich Village', 'Runaway Train', 'Ant-Man', 'Avengers: Age of Ultron', 'Vampire Academy', 'Jason Bourne', 'Need for Speed', 'John Wick', 'Inferno', 'Texas Detour', 'Shivaay', 'Terminator Genisys', '22 Jump Street', 'Repo Man', 'Hardcore Henry', 'Tomorrowland', 'Warcraft', 'Chappie', 'The Equalizer', 'Free State of Jones', 'Venus & Vegas', 'Destruction Los Angeles', 'Snakes on a Train', 'Transformers: Age of Extinction', 'Beyond Reason', 'Chicago P.D.', '2020 Texas Gladiators', 'Miami Connection', 'Doctor Strange', 'Jack Ryan: Shadow Recruit', '2019: After the Fall of New York', 'Star Wars: Episode V - The Empire Strikes Back', 'Five Minarets in New York', 'Spider-Man: Homecoming', 'NCIS: Los Angeles', 'Miami Vice', 'Spider-Man', 'Miami Vice (tv)', '3 Days to Kill', 'Jack Reacher: Never Go Back', 'Legends of Tomorrow', 'Busanhaeng', 'Scouts Guide to the Zombie Apocalypse', 'Hercules', 'X-Men: Days of Future Past', 'The Purge: Anarchy', 'Star Wars: Episode VII - The Force Awakens', 'The Train Robbers', 'The Man in the Iron Mask', 'Extralarge: Miami Killer', 'The Matrix', 'Mission: Impossible - Rogue Nation', 'A Man Apart', 'The Gravy Train', 'Now You See Me 2', 'Maze Runner: The Scorch Trials', 'Miami Supercops', 'Guardians of the Galaxy Vol. 2', 'The Magnificent Seven', 'Battle Los Angeles', 'Masterminds', 'The Expendables 3', 'Reason to Die', 'Shin Gojira', 'Raiders of the Lost Ark', 'Escape from New York', 'Grimsby', 'Demolition Man', 'Noah', 'Left Behind', 'Iron Man 2', 'Keeping Up with the Joneses', 'Texas,Adios', 'Hotel California (2013)', 'The Last Witch Hunter', 'Léon: The Professional', 'Sin City: A Dame to Kill For', 'Seattle Superstorm', 'Death Train', 'The Legend of Tarzan', 'Battle for the Lost Planet (Galaxy)', 'Vegas 2012', 'The California Connection', 'Captain America: Civil War', 'Spy', 'Star Wars: Episode II - Attack of the Clones', 'Fantastic Four', 'Cinco nacos asaltan Las Vegas', 'Patrol Boat', 'The Maze Runner', 'Guardians of the Galaxy', 'Mad Max: Fury Road', 'The Terminator', 'Texas Frightmare Massacre', 'Star Wars: Episode III - Revenge of the Sith', 'Mechanic: Resurrection', 'Hotel California', 'Star Wars: Episode VI - Return of the Jedi', 'Once Upon a Time in Vu Dai Village', 'The Guest', 'Spectre', 'Star Wars: Episode VIII - The Last Jedi', 'Atomic Train', 'Seventh Son', 'The Man from Chicago (1975)', 'Duel at the Tiger Village', 'The Great Los Angeles Earthquake', 'The Accountant', '300: Rise of an Empire', 'Central Intelligence']\n"
     ]
    }
   ],
   "source": [
    "action_movies = []\n",
    "\n",
    "for key in r.scan_iter(match=\"movie:*\"):\n",
    "    name = r.hget(name=key, key=\"title\")\n",
    "    genre = r.hget(name=key, key=\"genre\")\n",
    "    if genre == \"Action\":\n",
    "        action_movies.append(name)\n",
    "print(action_movies)"
   ]
  },
  {
   "cell_type": "markdown",
   "id": "a3d6a879",
   "metadata": {},
   "source": [
    "### **8. Find Users Who Rated a Specific Movie**\n",
    "Retrieve all users who have rated the movie with ID `10`.\n"
   ]
  },
  {
   "cell_type": "code",
   "execution_count": 109,
   "id": "5a614753",
   "metadata": {},
   "outputs": [],
   "source": [
    "# not possible"
   ]
  },
  {
   "cell_type": "markdown",
   "id": "43334f12",
   "metadata": {},
   "source": [
    "### **9. Get Movies with Ratings Between 7 and 9**\n",
    "Find all movies that have a rating between 7.0 and 9.0."
   ]
  },
  {
   "cell_type": "code",
   "execution_count": null,
   "id": "b4532070",
   "metadata": {},
   "outputs": [],
   "source": [
    "[r.hget(name=key, key=\"title\")\n",
    "for key in r.scan_iter(match=\"movie:*\")\n",
    "if 7 < float(r.hget(name=key, key=\"rating\")) < 9]"
   ]
  },
  {
   "cell_type": "markdown",
   "id": "255969e4",
   "metadata": {},
   "source": [
    "## **Additional Challenges**\n",
    "- Modify query #5 to return the top 10 rated movies."
   ]
  },
  {
   "cell_type": "code",
   "execution_count": 114,
   "id": "ad37809e",
   "metadata": {},
   "outputs": [
    {
     "name": "stdout",
     "output_type": "stream",
     "text": [
      "[['movie:787', 'Vegas (doc)'], ['movie:521', 'Boy 9'], ['movie:314', 'The Shawshank Redemption'], ['movie:723', 'Ween Live in Chicago'], ['movie:1025', 'Over Canada: An Aerial Adventure'], ['movie:664', 'PNYC: Portishead - Roseland New York'], ['movie:870', 'Bruce Springsteen & the E Street Band: Live in Barcelona'], ['movie:719', 'Jeff Buckley: Live in Chicago'], ['movie:1135', 'Pulp Fiction'], ['movie:1031', 'Canada på tvers med Lars Monsen']]\n",
      "[9.4, 9.4, 9.3, 9.2, 9.1, 9.0, 8.9, 8.9, 8.9, 8.9]\n"
     ]
    }
   ],
   "source": [
    "movies = [None] * 10\n",
    "ratings = [0] * 10\n",
    "\n",
    "for key in r.scan_iter(match=\"movie:*\"):\n",
    "    rating = float(r.hget(name=key, key=\"rating\"))\n",
    "    if rating > min(ratings):\n",
    "        # drop the last movie and rating in the list\n",
    "        movies[9] = [key, r.hget(name=key, key=\"title\")]\n",
    "        ratings[9] = rating\n",
    "        # sort based on new ones\n",
    "        sorted_pairs = sorted(zip(ratings, movies), reverse=True)\n",
    "        ratings, movies = zip(*sorted_pairs)\n",
    "        ratings, movies = list(ratings), list(movies)\n",
    "\n",
    "print(movies)\n",
    "print(ratings)\n"
   ]
  },
  {
   "cell_type": "markdown",
   "id": "ff4c6e3e",
   "metadata": {},
   "source": [
    "- Find the 3 most recent movies added to the dataset."
   ]
  },
  {
   "cell_type": "code",
   "execution_count": 117,
   "id": "07f04e56",
   "metadata": {},
   "outputs": [],
   "source": [
    "# not possible"
   ]
  },
  {
   "cell_type": "markdown",
   "id": "d7ec6156",
   "metadata": {},
   "source": [
    "\n",
    "- Retrieve the total number of users who have rated at least one movie."
   ]
  },
  {
   "cell_type": "code",
   "execution_count": 116,
   "id": "3106ee09",
   "metadata": {},
   "outputs": [],
   "source": [
    "# not possible"
   ]
  }
 ],
 "metadata": {
  "kernelspec": {
   "display_name": "datasci_env",
   "language": "python",
   "name": "python3"
  },
  "language_info": {
   "codemirror_mode": {
    "name": "ipython",
    "version": 3
   },
   "file_extension": ".py",
   "mimetype": "text/x-python",
   "name": "python",
   "nbconvert_exporter": "python",
   "pygments_lexer": "ipython3",
   "version": "3.8.20"
  }
 },
 "nbformat": 4,
 "nbformat_minor": 5
}
